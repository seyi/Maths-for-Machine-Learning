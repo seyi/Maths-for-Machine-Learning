{
 "cells": [
  {
   "cell_type": "code",
   "execution_count": null,
   "metadata": {},
   "outputs": [],
   "source": [
    "$m^2$"
   ]
  },
  {
   "cell_type": "markdown",
   "metadata": {},
   "source": [
    "Singular Value Decomposition <br>\n",
    "If M > N (which corresponds to the overdetermined situation of more equations than unkows) the decomposition looks like this. <br> <br>\n",
    "(2.6) &emsp;&emsp;&emsp;&emsp;\n",
    "$ \\Biggl (  A \\Biggl)  =\\Biggr (   U \\Biggl) . \\begin{pmatrix} \n",
    "w_0 &  &  \\\\\n",
    " & w_1 &  \\\\\n",
    " & & ... & \\\\\n",
    " & & ... & \\\\\n",
    " &  &  & w_{N-1} \n",
    "\\end{pmatrix}  . \\Biggl (   V_T \\Biggl)  \n",
    "$ <br>\n",
    "\n",
    "\n"
   ]
  },
  {
   "cell_type": "markdown",
   "metadata": {},
   "source": [
    "The matrix V is orthogonal in the sense that its columns are orthonormal, <br><br>\n",
    "(2.6.3)&emsp;&emsp;&emsp;&emsp;\n",
    "$ \\sum \\limits_{j=0}^{N -1} V_{jk} V_{jn}  =\n",
    "     \\delta_{jn}$ \n",
    "       <br> where <br>\n",
    "&emsp;&emsp;&emsp;&emsp;\n",
    "       $ 0 \\leq k \\leq N -1  \\\\ \\ \\ \\ \\ \\ \\ \\ \\ \\ \\ \\ \\ \\ \\\n",
    "       0 \\leq n \\leq N -1 $"
   ]
  },
  {
   "cell_type": "markdown",
   "metadata": {},
   "source": [
    "When M \b N , the matrix U is also column-orthogonal, <br><br>\n",
    "(2.6.4)&emsp;&emsp;&emsp;&emsp;\n",
    "$ \\sum \\limits_{j=0}^{N -1} U_{ik} V_{in}  =\n",
    "     \\delta_{jn}$ \n",
    "       <br> where <br>\n",
    "&emsp;&emsp;&emsp;&emsp;\n",
    "       $ 0 \\leq k \\leq N -1  \\\\ \\ \\ \\ \\ \\ \\ \\ \\ \\ \\ \\ \\ \\ \\\n",
    "       0 \\leq n \\leq N -1 $"
   ]
  },
  {
   "cell_type": "markdown",
   "metadata": {},
   "source": []
  }
 ],
 "metadata": {
  "language_info": {
   "name": "python"
  }
 },
 "nbformat": 4,
 "nbformat_minor": 2
}
